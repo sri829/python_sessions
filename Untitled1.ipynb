{
 "cells": [
  {
   "cell_type": "code",
   "execution_count": 3,
   "id": "f86804ab",
   "metadata": {},
   "outputs": [
    {
     "name": "stdout",
     "output_type": "stream",
     "text": [
      "3\n",
      "3\n"
     ]
    }
   ],
   "source": [
    "string1='ola ola ola'\n",
    "print(string1.count('ola'))\n",
    "print(string1.count('a'))"
   ]
  },
  {
   "cell_type": "code",
   "execution_count": 14,
   "id": "7d9ef878",
   "metadata": {},
   "outputs": [
    {
     "name": "stdout",
     "output_type": "stream",
     "text": [
      "1\n",
      "2\n"
     ]
    }
   ],
   "source": [
    "string1='ola ola ola'\n",
    "# ola ola ola\n",
    "# 123 456 789\n",
    "print(string1.count('a',8))\n",
    "print(string1.count('A'.lower(),4))"
   ]
  },
  {
   "cell_type": "code",
   "execution_count": 19,
   "id": "6c674926",
   "metadata": {},
   "outputs": [
    {
     "name": "stdout",
     "output_type": "stream",
     "text": [
      "a\n"
     ]
    }
   ],
   "source": [
    "count=0\n",
    "for i in string1:\n",
    "    if i=='a':\n",
    "        count+=1\n",
    "print(i)"
   ]
  },
  {
   "cell_type": "code",
   "execution_count": 41,
   "id": "ded12482",
   "metadata": {},
   "outputs": [
    {
     "name": "stdout",
     "output_type": "stream",
     "text": [
      "3\n"
     ]
    }
   ],
   "source": [
    "count=0\n",
    "for i in range (len(string1)):\n",
    "    if string1[i:i+3]=='ola':\n",
    "        count+=1\n",
    "print(count)\n"
   ]
  },
  {
   "cell_type": "code",
   "execution_count": 43,
   "id": "5f377a01",
   "metadata": {},
   "outputs": [
    {
     "data": {
      "text/plain": [
       "3"
      ]
     },
     "execution_count": 43,
     "metadata": {},
     "output_type": "execute_result"
    }
   ],
   "source": [
    "string1.count('a')"
   ]
  },
  {
   "cell_type": "code",
   "execution_count": null,
   "id": "105cb1a1",
   "metadata": {},
   "outputs": [],
   "source": [
    "# replace"
   ]
  },
  {
   "cell_type": "code",
   "execution_count": 46,
   "id": "28ca0884",
   "metadata": {},
   "outputs": [
    {
     "data": {
      "text/plain": [
       "'weLcome'"
      ]
     },
     "execution_count": 46,
     "metadata": {},
     "output_type": "execute_result"
    }
   ],
   "source": [
    "string1='welcome'\n",
    "# replace 'l' to 'L'\n",
    "string1.replace('l','L')"
   ]
  },
  {
   "cell_type": "code",
   "execution_count": 48,
   "id": "0bcf6fd9",
   "metadata": {},
   "outputs": [
    {
     "data": {
      "text/plain": [
       "'$esta$t'"
      ]
     },
     "execution_count": 48,
     "metadata": {},
     "output_type": "execute_result"
    }
   ],
   "source": [
    "string1='restart'\n",
    "string1.replace('r','$')"
   ]
  },
  {
   "cell_type": "code",
   "execution_count": 50,
   "id": "b5d04852",
   "metadata": {},
   "outputs": [
    {
     "data": {
      "text/plain": [
       "'$estart'"
      ]
     },
     "execution_count": 50,
     "metadata": {},
     "output_type": "execute_result"
    }
   ],
   "source": [
    "string1='restart'\n",
    "string1.replace('r','$',1)"
   ]
  },
  {
   "cell_type": "code",
   "execution_count": 51,
   "id": "ff631313",
   "metadata": {},
   "outputs": [
    {
     "data": {
      "text/plain": [
       "'$$r'"
      ]
     },
     "execution_count": 51,
     "metadata": {},
     "output_type": "execute_result"
    }
   ],
   "source": [
    "string1='rrr'\n",
    "string1.replace('r','$',2)"
   ]
  },
  {
   "cell_type": "code",
   "execution_count": 52,
   "id": "4ffe2411",
   "metadata": {},
   "outputs": [
    {
     "data": {
      "text/plain": [
       "'$$$'"
      ]
     },
     "execution_count": 52,
     "metadata": {},
     "output_type": "execute_result"
    }
   ],
   "source": [
    "string1='rrr'\n",
    "string1.replace('r','$',-1)"
   ]
  },
  {
   "cell_type": "code",
   "execution_count": 65,
   "id": "5987fec6",
   "metadata": {},
   "outputs": [
    {
     "name": "stdout",
     "output_type": "stream",
     "text": [
      "$esta$t\n",
      "resta$t\n"
     ]
    }
   ],
   "source": [
    "string1='restart'\n",
    "# olp 'restart'\n",
    "x=string1.replace('r','$',-1)\n",
    "print(x)\n",
    "y=x.replace('$','r',1)\n",
    "print(y)"
   ]
  },
  {
   "cell_type": "code",
   "execution_count": 70,
   "id": "04ef769a",
   "metadata": {},
   "outputs": [
    {
     "data": {
      "text/plain": [
       "'resta$t'"
      ]
     },
     "execution_count": 70,
     "metadata": {},
     "output_type": "execute_result"
    }
   ],
   "source": [
    "string='restart'\n",
    "s1=string1[0]\n",
    "s2=string1[1:].replace('r','$')\n",
    "s1+s2"
   ]
  },
  {
   "cell_type": "markdown",
   "id": "accf28d0",
   "metadata": {},
   "source": [
    "####  index"
   ]
  },
  {
   "cell_type": "code",
   "execution_count": 75,
   "id": "b558fbbc",
   "metadata": {},
   "outputs": [
    {
     "data": {
      "text/plain": [
       "3"
      ]
     },
     "execution_count": 75,
     "metadata": {},
     "output_type": "execute_result"
    }
   ],
   "source": [
    "string1='welcome python'\n",
    "string1.index('c')"
   ]
  },
  {
   "cell_type": "code",
   "execution_count": 76,
   "id": "b71a18ec",
   "metadata": {},
   "outputs": [
    {
     "ename": "ValueError",
     "evalue": "substring not found",
     "output_type": "error",
     "traceback": [
      "\u001b[1;31m---------------------------------------------------------------------------\u001b[0m",
      "\u001b[1;31mValueError\u001b[0m                                Traceback (most recent call last)",
      "Cell \u001b[1;32mIn[76], line 1\u001b[0m\n\u001b[1;32m----> 1\u001b[0m string1\u001b[38;5;241m.\u001b[39mindex(\u001b[38;5;124m'\u001b[39m\u001b[38;5;124mz\u001b[39m\u001b[38;5;124m'\u001b[39m)\n",
      "\u001b[1;31mValueError\u001b[0m: substring not found"
     ]
    }
   ],
   "source": [
    "string1.index('z') # substring not found"
   ]
  },
  {
   "cell_type": "code",
   "execution_count": 81,
   "id": "6eea8986",
   "metadata": {},
   "outputs": [
    {
     "name": "stdout",
     "output_type": "stream",
     "text": [
      "3\n"
     ]
    }
   ],
   "source": [
    "string1='hai how are you and'\n",
    "count=0\n",
    "for i in string1:\n",
    "    if i =='a':\n",
    "        count+=1\n",
    "print(count)"
   ]
  },
  {
   "cell_type": "code",
   "execution_count": 85,
   "id": "005fdfc0",
   "metadata": {},
   "outputs": [
    {
     "name": "stdout",
     "output_type": "stream",
     "text": [
      "1\n",
      "8\n",
      "16\n"
     ]
    }
   ],
   "source": [
    "for i in range(len(string1)):\n",
    "    if string1[i]=='a':\n",
    "        print(i)"
   ]
  },
  {
   "cell_type": "code",
   "execution_count": 86,
   "id": "3bb8199d",
   "metadata": {},
   "outputs": [
    {
     "data": {
      "text/plain": [
       "1"
      ]
     },
     "execution_count": 86,
     "metadata": {},
     "output_type": "execute_result"
    }
   ],
   "source": [
    "string1='hai hai hai'\n",
    "string1.index('a') # frist accurance od 'a' is 1"
   ]
  },
  {
   "cell_type": "code",
   "execution_count": 87,
   "id": "429950ce",
   "metadata": {},
   "outputs": [
    {
     "data": {
      "text/plain": [
       "5"
      ]
     },
     "execution_count": 87,
     "metadata": {},
     "output_type": "execute_result"
    }
   ],
   "source": [
    "string1='hai hai hai'\n",
    "string1.index('a',2) # frist accurance od 'a' is 1"
   ]
  },
  {
   "cell_type": "code",
   "execution_count": 89,
   "id": "f525914e",
   "metadata": {},
   "outputs": [
    {
     "data": {
      "text/plain": [
       "9"
      ]
     },
     "execution_count": 89,
     "metadata": {},
     "output_type": "execute_result"
    }
   ],
   "source": [
    "string1='hai hai hai'\n",
    "string1.index('a',6) # frist accurance od 'a' is 1"
   ]
  },
  {
   "cell_type": "code",
   "execution_count": 99,
   "id": "b515f099",
   "metadata": {},
   "outputs": [
    {
     "name": "stdout",
     "output_type": "stream",
     "text": [
      "1\n",
      "5\n",
      "9\n",
      "13\n"
     ]
    }
   ],
   "source": [
    "string1='hai hai hai hai hai'\n",
    "print(string1.index('a'))\n",
    "print(string1.index('a',1+1))\n",
    "print(string1.index('a',5+1))# frist accurance od 'a' is 1\n",
    "print(string1.index('a',9+1))"
   ]
  },
  {
   "cell_type": "code",
   "execution_count": 104,
   "id": "0c12f064",
   "metadata": {},
   "outputs": [
    {
     "name": "stdout",
     "output_type": "stream",
     "text": [
      "1 5 9 13 17 21\n"
     ]
    }
   ],
   "source": [
    "string1='hai hai hai hai hai hai'\n",
    "i1=string1.index('a')\n",
    "i2=string1.index('a',i1+1)\n",
    "i3=string1.index('a',i2+1)# frist accurance od 'a' is 1\n",
    "i4=string1.index('a',i3+1)\n",
    "i5=string1.index('a',i4+1)\n",
    "i6=string1.index('a',i5+1)\n",
    "print(i1,i2,i3,i4,i5,i6)"
   ]
  },
  {
   "cell_type": "code",
   "execution_count": 117,
   "id": "3d3efe23",
   "metadata": {},
   "outputs": [
    {
     "name": "stdout",
     "output_type": "stream",
     "text": [
      "5\n",
      "5\n",
      "5\n",
      "5\n",
      "5\n",
      "5\n"
     ]
    }
   ],
   "source": [
    "for i in string1:\n",
    "    if i=='a':\n",
    "        index=string1.index(i)\n",
    "        print(string1.index(i,index+1))"
   ]
  },
  {
   "cell_type": "code",
   "execution_count": 127,
   "id": "552f640e",
   "metadata": {},
   "outputs": [
    {
     "data": {
      "text/plain": [
       "10"
      ]
     },
     "execution_count": 127,
     "metadata": {},
     "output_type": "execute_result"
    }
   ],
   "source": [
    "string1='welcome hello'\n",
    "string1.index('l')\n",
    "string1.index('l',string1.index('l')+1)"
   ]
  },
  {
   "cell_type": "code",
   "execution_count": 128,
   "id": "4c3fcff0",
   "metadata": {},
   "outputs": [],
   "source": [
    "### find"
   ]
  },
  {
   "cell_type": "code",
   "execution_count": null,
   "id": "7bc9698c",
   "metadata": {},
   "outputs": [],
   "source": [
    "# take string1\n",
    "# shift tap\n",
    "# "
   ]
  },
  {
   "cell_type": "code",
   "execution_count": 147,
   "id": "8eb079d1",
   "metadata": {},
   "outputs": [
    {
     "data": {
      "text/plain": [
       "5"
      ]
     },
     "execution_count": 147,
     "metadata": {},
     "output_type": "execute_result"
    }
   ],
   "source": [
    "string1='hai hai'\n",
    "string1.find('a')\n",
    "string1.find('a',1+1)"
   ]
  },
  {
   "cell_type": "code",
   "execution_count": null,
   "id": "7e9b7ca0",
   "metadata": {},
   "outputs": [],
   "source": [
    "- captilaztion/upper/lower/"
   ]
  },
  {
   "cell_type": "code",
   "execution_count": null,
   "id": "75cf7a52",
   "metadata": {},
   "outputs": [],
   "source": []
  },
  {
   "cell_type": "code",
   "execution_count": null,
   "id": "ad4b28c0",
   "metadata": {},
   "outputs": [],
   "source": []
  },
  {
   "cell_type": "code",
   "execution_count": null,
   "id": "ee4dc43c",
   "metadata": {},
   "outputs": [],
   "source": []
  }
 ],
 "metadata": {
  "kernelspec": {
   "display_name": "Python 3 (ipykernel)",
   "language": "python",
   "name": "python3"
  },
  "language_info": {
   "codemirror_mode": {
    "name": "ipython",
    "version": 3
   },
   "file_extension": ".py",
   "mimetype": "text/x-python",
   "name": "python",
   "nbconvert_exporter": "python",
   "pygments_lexer": "ipython3",
   "version": "3.11.5"
  }
 },
 "nbformat": 4,
 "nbformat_minor": 5
}
